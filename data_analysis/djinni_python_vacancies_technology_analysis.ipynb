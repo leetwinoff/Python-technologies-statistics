{
 "cells": [
  {
   "cell_type": "code",
   "execution_count": 192,
   "metadata": {
    "collapsed": true
   },
   "outputs": [],
   "source": [
    "import pandas as pd\n",
    "import os\n",
    "%matplotlib inline"
   ]
  },
  {
   "cell_type": "markdown",
   "source": [
    "### Extract Data from CSV file\n"
   ],
   "metadata": {
    "collapsed": false
   }
  },
  {
   "cell_type": "code",
   "execution_count": 194,
   "outputs": [
    {
     "data": {
      "text/plain": "                                       Title  \\\n0     Senior Machine Learning Engineer video   \n1                           Python Team Lead   \n2                  Machine Learning Engineer   \n3     Middle  Python Developer(Python+React)   \n4  Middle Python Developer (Automation Team)   \n\n                                                                     Location  \\\n0  ['Ukraine', 'Dnipro', 'Ivano', 'Frankivsk', 'Kyiv', '2', 'more', 'cities']   \n1                                                                 ['Ukraine']   \n2                                       ['Ukraine', 'Dnipro', 'Kyiv', 'Lviv']   \n3                                             ['Relocate', 'Ukraine', 'Kyiv']   \n4                                                         ['Ukraine', 'Kyiv']   \n\n                                                                                                                                                                                                                                                                                                                                                                                                                                                                                                                                                                                                                                                                                                                                                                                                                                                                                                                                                                                                                                                                                                                                                                                                                                                                                                                                                                                                                                                                                                                                                                                                                                                                                                                                                                                                                                                                                                                                                                                                                                                                                                                                                                                                                                                                                                                                                                                                                                                                                                                                                                                                                                                                                                                                                                                                                                                                                                                                                    Description  \\\n0                                                                                                                                                                                                                                                                                                                                                                                                                                                                                                                                                                                                                                                                                                                                                                                                                                                                                                                                                                                                                                                                                                                                                                                                                                                                                                                                                                                                                                                                                                                                                                                                                                                                                                                                                                                                                                                                                                                                                                                                                                                                                                                                                                                                                                                                                                                                                                                                                                                                                                                                                              ravatar uses advanced generative artificial intelligence technology to create high quality realistic avatars.working with synthetic data, we can recreate any person in virtual reality using existing audio and video samples as a reference.https://ravatar.com/#undefinedmachine learning engineer, text-to-speech (tts) research cкоріше такий тайтл точніший.stackpython, java, c++, or c#.   \n1                                                                                                           we are seeking a dynamic and experienced python team lead with a strong background in gis (geographic information systems).responsibilities: as the python team lead, you will play a crucial role in overseeing and guiding the forte team's efforts. your primary responsibilities will include:•\\tleading a team of skilled python developers and gis specialists in the design, development, and maintenance of geospatial data processing and analysis solutions.•\\tcollaborating with cross-functional teams to gather requirements, design effective workflows, and ensure successful project delivery.•\\tleveraging your gis expertise to contribute to the development and improvement of spatial data processing algorithms and methodologies.•\\ttaking charge of qa processes, particularly in the validation of machine learning results using jupyter notebooks.•\\tmanaging and optimizing the utilization of infrastructure resources, including on-premises servers, s3 storage buckets, and shared network drives.•\\toverseeing the migration process away from google sheets for production data, utilizing the google sheets api for transitional solutions.•\\tcoordinating activities using jira to ensure efficient project management and timely delivery of tasks.required skills and qualifications:•\\textensive experience working with python and its libraries, particularly xarray for raster data and geopandas for vector data.•\\tproficiency in core python libraries such as pygeos, shapely, pandas, and numpy.•\\tstrong familiarity with qgis, specifically for shapefile extraction and manipulation.•\\tprevious experience using jupyter notebooks for quality assurance and validation of machine learning outputs.•\\tknowledge of google earth engine and its dependencies, managed through the gee_connector.•\\texperience working with on-premises infrastructure, s3 storage buckets, and shared network drives for data storage and retrieval.•\\tfamiliarity with process automation using tools like process street, particularly for defining workflows related to shapefile extraction.•\\tprior exposure to the google sheets api and transitioning away from google sheets for production data management.•\\tproficient english skills at an upper-intermediate level to effectively communicate and collaborate within a diverse team.we offer:• professional development and personal growth• financial opportunities that attract• remote work option• comfortable working environment• paid vacation• paid sick leave• friendly and open-minded teamif you are a passionate python developer with a knack for leading teams and a strong background in gis, we invite you to join us in our mission to revolutionize the field. apply now to embark on a journey of innovation and growth with us.   \n2                                                                                                                                                                                                                                                                                                                                                                                                                                                                                                                                                                                                                                                                                                                                                                                                                                                                                                                                                                                                                                                                                                                                                                                                                                                                                                                                                                                                                                                                                                                                                                                                                                                                                                                                                                                                                                                                                                                                                                                                                                                                                                                                                                                                                                                                                                                                                                                                                                                                                               machine learning engineer, text-to-speech (tts)good knowledge of python (standard and ml libraries, ability to apply oop);understanding the principles of building machine learning models;sql knowledge;experience with docker;ability to work with git;systems thinking, desire to understand the subject area, business processes;technical higher education.good knowledge of probability theory and mathematical statistics;stackpython, java, c++, or c#.   \n3  ajax systems — розробник і виробник систем безпеки ajax із можливостями розумного дому. це більше 50 пристрої, мобільні та десктопні застосунки, серверна інфраструктура. у лінійці ajax представлено централі керування із власною rtos (os malevich), датчики руху, відчинення, захисту від затоплення та пожежні датчики, вуличні й домашні сирени, тривожна кнопка з функцією керування приладами, розумні розетки та реле.кожного року ми демонструємо кратне зростання як у чисельності команди, так і в кількості користувачів у всьому світі. виробництво ajax systems налічує два заводи, що розташовані в україні. також у нас чотири r&d-офіси: у києві, харкові, львові та вінниці. локальні команди продажів є у великобританії, італії, іспанії, португалії, німеччині, польщі, норвегії, румунії, туреччині, оае та пар.датчики ajax охороняють більше мільйона користувачів у більш ніж 130 країнах світу.основне завдання команди — це забезпечити випуск максимальної кількості пристроїв найвищої якості в найкоротші терміни. ми розробляємо власний софт і апаратне забезпечення, які використовуються практично на всіх етапах виробництва: починаючи з тестування змонтованих плат і прошивки мікроконтролерів, до перевірки зібраних пристроїв і їх упаковки, комплектації starter kits. головний виклик перед командою на найближче майбутнє — повна автоматизація всіх етапів виробництва з використанням конвеєрів і роботів.основні задачі:- розробка web інтерфейсу для управління даними в системі для зручного керування і редагуванняweb сторінки для виводу статистики, аналітики по записам в базі даних      - розробка api для взаємодії програм з базою, стороннім пз та пз/хардом інших команд.- інтеграція апаратного забезпечення в програм виробництва, що потрібні для перевірки/калібрування окремих функцій охоронних, відео та смарт-хоум пристроїв.- робота з ci/di системою для автоматичного управління версіями програмного забезпечення виробництва- розробка допоміжних програм, скриптів, алгоритмів аналізу, web, desktopщо шукаємо у кандидаті?- комерційний досвід с python 3 від 2 років- комерційний досвід в web розробці від 2 роківтреба знати:- javascript, typescript- html, css- mysql, postgresql-  multiprocessing, threading, asyncio, the python standard library- oop- api, drf- http, tcp/ip, модель osi- git, linux- nosql - jenkins чи інша ci/cd система- djangoчудово, якщо ви знаєте:- webrtc- grpc- pyqt, pyside чи tkinter- pyserial чи pyusb- pyinstaller- docker, docker-compose, aws-qmlособисті якості:- цілеспрямованість- прагнення до нових знань і вирішенню нестандартних задач- вміння працювати в команді.пропонуємо:- свободу приймати рішення та втілювати ідеї;- можливість впливати на продукт і виробництво замість монотонного закриття задач;- роботу в мотивованій команді та zero bullshit culture;- гнучкий графік в офісі;- турботу та медичне страхування   \n4                                                                                                                                                                                                                                                                                                                                                                                                                                        ajax systems — розробник і виробник систем безпеки ajax із можливостями розумного дому. це більше 50 пристрої, мобільні та десктопні застосунки, серверна інфраструктура. у лінійці ajax представлено централі керування із власною rtos (os malevich), датчики руху, відчинення, захисту від затоплення та пожежні датчики, вуличні й домашні сирени, тривожна кнопка з функцією керування приладами, розумні розетки та реле.кожного року ми демонструємо кратне зростання як у чисельності команди, так і в кількості користувачів у всьому світі. виробництво ajax systems налічує два заводи, що розташовані в україні. також у нас чотири r&d-офіси: у києві, харкові, львові та вінниці. локальні команди продажів є у великобританії, італії, іспанії, португалії, німеччині, польщі, норвегії, румунії, туреччині, оае та пар.датчики ajax охороняють більше мільйона користувачів у більш ніж 130 країнах світу.основне завдання команди — це забезпечити випуск максимальної кількості пристроїв найвищої якості в найкоротші терміни. ми розробляємо власний софт і апаратне забезпечення, які використовуються практично на всіх етапах виробництва: починаючи з тестування змонтованих плат і прошивки мікроконтролерів, до перевірки зібраних пристроїв і їх упаковки, комплектації starter kits. головний виклик перед командою на найближче майбутнє — повна автоматизація всіх етапів виробництва з використанням конвеєрів і роботів.основні задачі:- розробка десктоп програм (pc, single-board) для автоматизації процесів масового виробництва, тестування та калібрування пристроїв.- інтеграція апаратного забезпечення в програм виробництва, що потрібні для перевірки/калібрування окремих функцій охоронних, відео та смарт-хоум пристроїв.- робота з ci/di системою для автоматичного управління версіями програмного забезпечення виробництва- розробка допоміжних програм, скриптів, алгоритмів аналізу, api для взаємодії програм з базою, стороннім пз та пз/хардом інших команд.що шукаємо у кандидаті?- комерційний досвід з python 3 - від 3х років- знання django/flask- досвід роботи з mysql, postgresql- розуміння multiprocessing, threading, socket, the python standard libraries- знання http/tcp, модель osi- досвід oop- знання git, linux- англійську на рівні читання та розуміння документаціїчудово, якщо ви знаєте:- pyqt, pyside чи tkinter- pyserial чи pyusb- pyinstaller- jenkins чи інша ci/cd система- docker, docker-compose, aws- webrtc- grpc- nosql - qml   \n\n                                                      Additional Information  \\\n0   ['Product', 'Office or Remote', '2 years of experience', 'Intermediate']   \n1             ['Full Remote', '5 years of experience', 'Upper-Intermediate']   \n2  ['Product', 'Full Remote', '3 years of experience', 'Upper-Intermediate']   \n3        ['Product', 'Office Work', '3 years of experience', 'Intermediate']   \n4        ['Product', 'Office Work', '3 years of experience', 'Intermediate']   \n\n   Views  Applications  \\\n0     32             3   \n1     15             2   \n2     32             9   \n3     21             1   \n4     15             4   \n\n                                                   Filtered Technologies  \n0                                                                     []  \n1                                                   ['PANDAS', 'PYTHON']  \n2                                                             ['PYTHON']  \n3  ['JENKINS', 'JAVASCRIPT', 'MYSQL', 'GIT', 'HTTP', 'PYTHON', 'DOCKER']  \n4      ['DJANGO', 'JENKINS', 'GIT', 'MYSQL', 'HTTP', 'PYTHON', 'DOCKER']  ",
      "text/html": "<div>\n<style scoped>\n    .dataframe tbody tr th:only-of-type {\n        vertical-align: middle;\n    }\n\n    .dataframe tbody tr th {\n        vertical-align: top;\n    }\n\n    .dataframe thead th {\n        text-align: right;\n    }\n</style>\n<table border=\"1\" class=\"dataframe\">\n  <thead>\n    <tr style=\"text-align: right;\">\n      <th></th>\n      <th>Title</th>\n      <th>Location</th>\n      <th>Description</th>\n      <th>Additional Information</th>\n      <th>Views</th>\n      <th>Applications</th>\n      <th>Filtered Technologies</th>\n    </tr>\n  </thead>\n  <tbody>\n    <tr>\n      <th>0</th>\n      <td>Senior Machine Learning Engineer video</td>\n      <td>['Ukraine', 'Dnipro', 'Ivano', 'Frankivsk', 'Kyiv', '2', 'more', 'cities']</td>\n      <td>ravatar uses advanced generative artificial intelligence technology to create high quality realistic avatars.working with synthetic data, we can recreate any person in virtual reality using existing audio and video samples as a reference.https://ravatar.com/#undefinedmachine learning engineer, text-to-speech (tts) research cкоріше такий тайтл точніший.stackpython, java, c++, or c#.</td>\n      <td>['Product', 'Office or Remote', '2 years of experience', 'Intermediate']</td>\n      <td>32</td>\n      <td>3</td>\n      <td>[]</td>\n    </tr>\n    <tr>\n      <th>1</th>\n      <td>Python Team Lead</td>\n      <td>['Ukraine']</td>\n      <td>we are seeking a dynamic and experienced python team lead with a strong background in gis (geographic information systems).responsibilities: as the python team lead, you will play a crucial role in overseeing and guiding the forte team's efforts. your primary responsibilities will include:•\\tleading a team of skilled python developers and gis specialists in the design, development, and maintenance of geospatial data processing and analysis solutions.•\\tcollaborating with cross-functional teams to gather requirements, design effective workflows, and ensure successful project delivery.•\\tleveraging your gis expertise to contribute to the development and improvement of spatial data processing algorithms and methodologies.•\\ttaking charge of qa processes, particularly in the validation of machine learning results using jupyter notebooks.•\\tmanaging and optimizing the utilization of infrastructure resources, including on-premises servers, s3 storage buckets, and shared network drives.•\\toverseeing the migration process away from google sheets for production data, utilizing the google sheets api for transitional solutions.•\\tcoordinating activities using jira to ensure efficient project management and timely delivery of tasks.required skills and qualifications:•\\textensive experience working with python and its libraries, particularly xarray for raster data and geopandas for vector data.•\\tproficiency in core python libraries such as pygeos, shapely, pandas, and numpy.•\\tstrong familiarity with qgis, specifically for shapefile extraction and manipulation.•\\tprevious experience using jupyter notebooks for quality assurance and validation of machine learning outputs.•\\tknowledge of google earth engine and its dependencies, managed through the gee_connector.•\\texperience working with on-premises infrastructure, s3 storage buckets, and shared network drives for data storage and retrieval.•\\tfamiliarity with process automation using tools like process street, particularly for defining workflows related to shapefile extraction.•\\tprior exposure to the google sheets api and transitioning away from google sheets for production data management.•\\tproficient english skills at an upper-intermediate level to effectively communicate and collaborate within a diverse team.we offer:• professional development and personal growth• financial opportunities that attract• remote work option• comfortable working environment• paid vacation• paid sick leave• friendly and open-minded teamif you are a passionate python developer with a knack for leading teams and a strong background in gis, we invite you to join us in our mission to revolutionize the field. apply now to embark on a journey of innovation and growth with us.</td>\n      <td>['Full Remote', '5 years of experience', 'Upper-Intermediate']</td>\n      <td>15</td>\n      <td>2</td>\n      <td>['PANDAS', 'PYTHON']</td>\n    </tr>\n    <tr>\n      <th>2</th>\n      <td>Machine Learning Engineer</td>\n      <td>['Ukraine', 'Dnipro', 'Kyiv', 'Lviv']</td>\n      <td>machine learning engineer, text-to-speech (tts)good knowledge of python (standard and ml libraries, ability to apply oop);understanding the principles of building machine learning models;sql knowledge;experience with docker;ability to work with git;systems thinking, desire to understand the subject area, business processes;technical higher education.good knowledge of probability theory and mathematical statistics;stackpython, java, c++, or c#.</td>\n      <td>['Product', 'Full Remote', '3 years of experience', 'Upper-Intermediate']</td>\n      <td>32</td>\n      <td>9</td>\n      <td>['PYTHON']</td>\n    </tr>\n    <tr>\n      <th>3</th>\n      <td>Middle  Python Developer(Python+React)</td>\n      <td>['Relocate', 'Ukraine', 'Kyiv']</td>\n      <td>ajax systems — розробник і виробник систем безпеки ajax із можливостями розумного дому. це більше 50 пристрої, мобільні та десктопні застосунки, серверна інфраструктура. у лінійці ajax представлено централі керування із власною rtos (os malevich), датчики руху, відчинення, захисту від затоплення та пожежні датчики, вуличні й домашні сирени, тривожна кнопка з функцією керування приладами, розумні розетки та реле.кожного року ми демонструємо кратне зростання як у чисельності команди, так і в кількості користувачів у всьому світі. виробництво ajax systems налічує два заводи, що розташовані в україні. також у нас чотири r&amp;d-офіси: у києві, харкові, львові та вінниці. локальні команди продажів є у великобританії, італії, іспанії, португалії, німеччині, польщі, норвегії, румунії, туреччині, оае та пар.датчики ajax охороняють більше мільйона користувачів у більш ніж 130 країнах світу.основне завдання команди — це забезпечити випуск максимальної кількості пристроїв найвищої якості в найкоротші терміни. ми розробляємо власний софт і апаратне забезпечення, які використовуються практично на всіх етапах виробництва: починаючи з тестування змонтованих плат і прошивки мікроконтролерів, до перевірки зібраних пристроїв і їх упаковки, комплектації starter kits. головний виклик перед командою на найближче майбутнє — повна автоматизація всіх етапів виробництва з використанням конвеєрів і роботів.основні задачі:- розробка web інтерфейсу для управління даними в системі для зручного керування і редагуванняweb сторінки для виводу статистики, аналітики по записам в базі даних      - розробка api для взаємодії програм з базою, стороннім пз та пз/хардом інших команд.- інтеграція апаратного забезпечення в програм виробництва, що потрібні для перевірки/калібрування окремих функцій охоронних, відео та смарт-хоум пристроїв.- робота з ci/di системою для автоматичного управління версіями програмного забезпечення виробництва- розробка допоміжних програм, скриптів, алгоритмів аналізу, web, desktopщо шукаємо у кандидаті?- комерційний досвід с python 3 від 2 років- комерційний досвід в web розробці від 2 роківтреба знати:- javascript, typescript- html, css- mysql, postgresql-  multiprocessing, threading, asyncio, the python standard library- oop- api, drf- http, tcp/ip, модель osi- git, linux- nosql - jenkins чи інша ci/cd система- djangoчудово, якщо ви знаєте:- webrtc- grpc- pyqt, pyside чи tkinter- pyserial чи pyusb- pyinstaller- docker, docker-compose, aws-qmlособисті якості:- цілеспрямованість- прагнення до нових знань і вирішенню нестандартних задач- вміння працювати в команді.пропонуємо:- свободу приймати рішення та втілювати ідеї;- можливість впливати на продукт і виробництво замість монотонного закриття задач;- роботу в мотивованій команді та zero bullshit culture;- гнучкий графік в офісі;- турботу та медичне страхування</td>\n      <td>['Product', 'Office Work', '3 years of experience', 'Intermediate']</td>\n      <td>21</td>\n      <td>1</td>\n      <td>['JENKINS', 'JAVASCRIPT', 'MYSQL', 'GIT', 'HTTP', 'PYTHON', 'DOCKER']</td>\n    </tr>\n    <tr>\n      <th>4</th>\n      <td>Middle Python Developer (Automation Team)</td>\n      <td>['Ukraine', 'Kyiv']</td>\n      <td>ajax systems — розробник і виробник систем безпеки ajax із можливостями розумного дому. це більше 50 пристрої, мобільні та десктопні застосунки, серверна інфраструктура. у лінійці ajax представлено централі керування із власною rtos (os malevich), датчики руху, відчинення, захисту від затоплення та пожежні датчики, вуличні й домашні сирени, тривожна кнопка з функцією керування приладами, розумні розетки та реле.кожного року ми демонструємо кратне зростання як у чисельності команди, так і в кількості користувачів у всьому світі. виробництво ajax systems налічує два заводи, що розташовані в україні. також у нас чотири r&amp;d-офіси: у києві, харкові, львові та вінниці. локальні команди продажів є у великобританії, італії, іспанії, португалії, німеччині, польщі, норвегії, румунії, туреччині, оае та пар.датчики ajax охороняють більше мільйона користувачів у більш ніж 130 країнах світу.основне завдання команди — це забезпечити випуск максимальної кількості пристроїв найвищої якості в найкоротші терміни. ми розробляємо власний софт і апаратне забезпечення, які використовуються практично на всіх етапах виробництва: починаючи з тестування змонтованих плат і прошивки мікроконтролерів, до перевірки зібраних пристроїв і їх упаковки, комплектації starter kits. головний виклик перед командою на найближче майбутнє — повна автоматизація всіх етапів виробництва з використанням конвеєрів і роботів.основні задачі:- розробка десктоп програм (pc, single-board) для автоматизації процесів масового виробництва, тестування та калібрування пристроїв.- інтеграція апаратного забезпечення в програм виробництва, що потрібні для перевірки/калібрування окремих функцій охоронних, відео та смарт-хоум пристроїв.- робота з ci/di системою для автоматичного управління версіями програмного забезпечення виробництва- розробка допоміжних програм, скриптів, алгоритмів аналізу, api для взаємодії програм з базою, стороннім пз та пз/хардом інших команд.що шукаємо у кандидаті?- комерційний досвід з python 3 - від 3х років- знання django/flask- досвід роботи з mysql, postgresql- розуміння multiprocessing, threading, socket, the python standard libraries- знання http/tcp, модель osi- досвід oop- знання git, linux- англійську на рівні читання та розуміння документаціїчудово, якщо ви знаєте:- pyqt, pyside чи tkinter- pyserial чи pyusb- pyinstaller- jenkins чи інша ci/cd система- docker, docker-compose, aws- webrtc- grpc- nosql - qml</td>\n      <td>['Product', 'Office Work', '3 years of experience', 'Intermediate']</td>\n      <td>15</td>\n      <td>4</td>\n      <td>['DJANGO', 'JENKINS', 'GIT', 'MYSQL', 'HTTP', 'PYTHON', 'DOCKER']</td>\n    </tr>\n  </tbody>\n</table>\n</div>"
     },
     "execution_count": 194,
     "metadata": {},
     "output_type": "execute_result"
    }
   ],
   "source": [
    "VACANCIES_CSV_PATH = os.path.join(\"..\", \"web_scrapping\", \"vacancies.csv\")\n",
    "vacancies = pd.read_csv(VACANCIES_CSV_PATH)"
   ],
   "metadata": {
    "collapsed": false
   }
  },
  {
   "cell_type": "code",
   "execution_count": null,
   "outputs": [],
   "source": [
    "vacancies.info()"
   ],
   "metadata": {
    "collapsed": false
   }
  },
  {
   "cell_type": "code",
   "execution_count": null,
   "outputs": [],
   "source": [
    "vacancies.describe()"
   ],
   "metadata": {
    "collapsed": false
   }
  },
  {
   "cell_type": "markdown",
   "source": [
    "### Aggregating a comprehensive list of technologies listed across all vacancies and subsequently identifying the top 20 most frequently mentioned technologies."
   ],
   "metadata": {
    "collapsed": false
   }
  },
  {
   "cell_type": "code",
   "execution_count": null,
   "outputs": [],
   "source": [
    "from collections import Counter\n",
    "\n",
    "all_technologies = []\n",
    "for tech_list in vacancies[\"Filtered Technologies\"]:\n",
    "    tech_list = eval(tech_list)\n",
    "    all_technologies.extend(tech_list)\n",
    "\n",
    "\n",
    "technology_counts = Counter(all_technologies)\n",
    "top_technologies = technology_counts.most_common(20)\n",
    "top_technologies_df = pd.DataFrame(top_technologies, columns=['Technology', 'Count'])\n",
    "top_technologies_df"
   ],
   "metadata": {
    "collapsed": false
   }
  },
  {
   "cell_type": "markdown",
   "source": [
    "### Top 20 most common technologies diagram"
   ],
   "metadata": {
    "collapsed": false
   }
  },
  {
   "cell_type": "code",
   "execution_count": null,
   "outputs": [],
   "source": [
    "import matplotlib.pyplot as plt\n",
    "technologies = [tech[0] for tech in top_technologies]\n",
    "counts = [tech[1] for tech in top_technologies]\n",
    "\n",
    "plt.figure(figsize=(10, 6))\n",
    "plt.bar(technologies, counts, color='skyblue')\n",
    "plt.xticks(rotation='vertical')\n",
    "plt.xlabel('Technology')\n",
    "plt.ylabel('Count')\n",
    "plt.title('Top 20 Most Common Technologies')\n",
    "\n",
    "plt.tight_layout()"
   ],
   "metadata": {
    "collapsed": false
   }
  },
  {
   "cell_type": "markdown",
   "source": [
    "### Analysis of most popular technologies for Junior Vacancy"
   ],
   "metadata": {
    "collapsed": false
   }
  },
  {
   "cell_type": "code",
   "execution_count": null,
   "outputs": [],
   "source": [
    "junior_vacancies_df = vacancies[vacancies[\"Title\"].str.contains(r'\\bJunior\\b', case=False, regex=True)]\n",
    "all_technologies = []\n",
    "for tech_list in junior_vacancies_df[\"Filtered Technologies\"]:\n",
    "    tech_list = eval(tech_list)\n",
    "    all_technologies.extend(tech_list)\n",
    "\n",
    "junior_technology_counts = Counter(all_technologies)\n",
    "top_junior_technologies = junior_technology_counts.most_common()\n",
    "top_junior_technologies_df = pd.DataFrame(top_junior_technologies, columns=['Technology', 'Count'])\n",
    "top_junior_technologies_df"
   ],
   "metadata": {
    "collapsed": false
   }
  },
  {
   "cell_type": "markdown",
   "source": [
    "### Most popular Junior technologies diagram"
   ],
   "metadata": {
    "collapsed": false
   }
  },
  {
   "cell_type": "code",
   "execution_count": null,
   "outputs": [],
   "source": [
    "plt.figure(figsize=(10, 6))\n",
    "plt.bar(top_junior_technologies_df['Technology'], top_junior_technologies_df['Count'], color='skyblue')\n",
    "plt.xticks(rotation='vertical')\n",
    "plt.xlabel('Technology')\n",
    "plt.ylabel('Count')\n",
    "plt.title('Top Most Common Technologies in Junior Vacancies')\n",
    "plt.tight_layout()"
   ],
   "metadata": {
    "collapsed": false
   }
  },
  {
   "cell_type": "markdown",
   "source": [
    "#### Junior vacancies views and applications diagram"
   ],
   "metadata": {
    "collapsed": false
   }
  },
  {
   "cell_type": "code",
   "execution_count": null,
   "outputs": [],
   "source": [
    "grouped = junior_vacancies_df.groupby(\"Title\").agg({\"Views\": \"sum\", \"Applications\": \"sum\"})\n",
    "\n",
    "plt.figure(figsize=(12, 8))\n",
    "\n",
    "plt.figure(figsize=(12, 8))\n",
    "\n",
    "plt.plot(grouped.index, grouped['Views'], marker='o', label='Views')\n",
    "plt.plot(grouped.index, grouped['Applications'], marker='o', label='Applications')\n",
    "\n",
    "plt.title('Junior Vacancies Views and Applications')\n",
    "plt.xlabel('Title')\n",
    "plt.ylabel(\"Count\")\n",
    "plt.xticks(rotation=45)\n",
    "plt.legend()\n",
    "plt.grid(False)\n",
    "plt.show()"
   ],
   "metadata": {
    "collapsed": false
   }
  },
  {
   "cell_type": "markdown",
   "source": [
    "### Extracting Unique Locations and Calculating Percentages"
   ],
   "metadata": {
    "collapsed": false
   }
  },
  {
   "cell_type": "code",
   "execution_count": null,
   "outputs": [],
   "source": [
    "all_locations = []\n",
    "for location_list in vacancies[\"Location\"]:\n",
    "    location_list = eval(location_list)\n",
    "    all_locations.extend(location_list)\n",
    "\n",
    "total_locations = len(all_locations)\n",
    "\n",
    "location_counts = Counter(all_locations)\n",
    "location_counts_df = pd.DataFrame.from_dict(location_counts, orient=\"index\", columns=[\"Count\"])\n",
    "location_counts_df.index.name = \"Location\"\n",
    "location_counts_df[\"Percentage\"] = (location_counts_df[\"Count\"] / total_locations * 100)\n",
    "location_counts_df"
   ],
   "metadata": {
    "collapsed": false
   }
  },
  {
   "cell_type": "markdown",
   "source": [
    "### Diagram of most popular locations"
   ],
   "metadata": {
    "collapsed": false
   }
  },
  {
   "cell_type": "code",
   "execution_count": null,
   "outputs": [],
   "source": [
    "filtered_locations_df = location_counts_df[location_counts_df[\"Percentage\"] > 1]\n",
    "\n",
    "plt.figure(figsize=(12, 10))\n",
    "plt.pie(filtered_locations_df[\"Percentage\"], labels=filtered_locations_df.index, autopct='%.1f%%', startangle=140)\n",
    "plt.title('Percentage of Vacancies by Location')\n",
    "plt.axis('equal')"
   ],
   "metadata": {
    "collapsed": false
   }
  },
  {
   "cell_type": "markdown",
   "source": [
    "### In this analysis, we will examine the distribution of job vacancies that offer the option to work remotely or at the office."
   ],
   "metadata": {
    "collapsed": false
   }
  },
  {
   "cell_type": "code",
   "execution_count": null,
   "outputs": [],
   "source": [
    "remote_vacancies = vacancies[vacancies[\"Additional Information\"].str.contains('Remote', case=False)]\n",
    "office_vacancies = vacancies[vacancies[\"Additional Information\"].str.contains('Office', case=False)]\n",
    "office_or_remote = vacancies[vacancies[\"Additional Information\"].str.contains('Office or Remote', case=False)]\n",
    "hybrid = vacancies[vacancies[\"Additional Information\"].str.contains('Hybrid', case=False)]\n",
    "\n",
    "counts = [\n",
    "    remote_vacancies.shape[0],\n",
    "    office_vacancies.shape[0],\n",
    "    office_or_remote.shape[0],\n",
    "    hybrid.shape[0]\n",
    "]\n",
    "\n",
    "labels = ['Remote', 'Office', 'Office or Remote', 'Hybrid']\n",
    "\n",
    "plt.figure(figsize=(8, 8))\n",
    "plt.pie(counts, labels=labels, autopct='%1.1f%%', startangle=140)\n",
    "plt.title(\"Percentage of Vacancies: Remote Work vs. Office Work vs\")\n",
    "plt.show()\n"
   ],
   "metadata": {
    "collapsed": false
   }
  },
  {
   "cell_type": "markdown",
   "source": [
    "### In this analysis, we will examine the distribution of job vacancies for different position"
   ],
   "metadata": {
    "collapsed": false
   }
  },
  {
   "cell_type": "code",
   "execution_count": null,
   "outputs": [],
   "source": [
    "positions = [\"Junior\", \"Middle\", \"Senior\", \"Team Lead\", \"Tech Lead\", \"Machine Learning\", \"FullStack\", \"Solution\", \"AI\"]\n",
    "position_counts = {position: 0 for position in positions}\n",
    "\n",
    "for title in vacancies['Title']:\n",
    "    for position in positions:\n",
    "        if position in title:\n",
    "            position_counts[position] += 1\n",
    "\n",
    "position_df = pd.DataFrame.from_dict(position_counts, orient='index', columns=['Count'])\n",
    "\n",
    "plt.figure(figsize=(10, 6))\n",
    "plt.bar(position_df.index, position_df['Count'], color='skyblue')\n",
    "plt.xticks(rotation='vertical')\n",
    "plt.xlabel('Position')\n",
    "plt.ylabel('Count')\n",
    "plt.title('Number of Vacancies by Position')\n",
    "plt.tight_layout()"
   ],
   "metadata": {
    "collapsed": false
   }
  },
  {
   "cell_type": "code",
   "execution_count": null,
   "outputs": [],
   "source": [],
   "metadata": {
    "collapsed": false
   }
  }
 ],
 "metadata": {
  "kernelspec": {
   "display_name": "Python 3",
   "language": "python",
   "name": "python3"
  },
  "language_info": {
   "codemirror_mode": {
    "name": "ipython",
    "version": 2
   },
   "file_extension": ".py",
   "mimetype": "text/x-python",
   "name": "python",
   "nbconvert_exporter": "python",
   "pygments_lexer": "ipython2",
   "version": "2.7.6"
  }
 },
 "nbformat": 4,
 "nbformat_minor": 0
}
